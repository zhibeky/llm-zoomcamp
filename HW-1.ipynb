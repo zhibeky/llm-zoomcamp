{
 "cells": [
  {
   "cell_type": "code",
   "execution_count": 881,
   "id": "08cef625-8779-418f-9c94-9c91a9e92cb1",
   "metadata": {},
   "outputs": [
    {
     "name": "stdout",
     "output_type": "stream",
     "text": [
      "Requirement already satisfied: requests in /opt/anaconda3/lib/python3.12/site-packages (2.32.3)\n",
      "Requirement already satisfied: charset-normalizer<4,>=2 in /opt/anaconda3/lib/python3.12/site-packages (from requests) (3.3.2)\n",
      "Requirement already satisfied: idna<4,>=2.5 in /opt/anaconda3/lib/python3.12/site-packages (from requests) (3.7)\n",
      "Requirement already satisfied: urllib3<3,>=1.21.1 in /opt/anaconda3/lib/python3.12/site-packages (from requests) (2.2.3)\n",
      "Requirement already satisfied: certifi>=2017.4.17 in /opt/anaconda3/lib/python3.12/site-packages (from requests) (2024.12.14)\n",
      "Note: you may need to restart the kernel to use updated packages.\n"
     ]
    }
   ],
   "source": [
    "pip install requests"
   ]
  },
  {
   "cell_type": "code",
   "execution_count": 883,
   "id": "fbeb46b7-246b-4fc2-bbd2-8dbfadce25ae",
   "metadata": {},
   "outputs": [
    {
     "name": "stdout",
     "output_type": "stream",
     "text": [
      "Requirement already satisfied: elasticsearch in /opt/anaconda3/lib/python3.12/site-packages (8.13.0)\n",
      "Requirement already satisfied: elastic-transport<9,>=8.13 in /opt/anaconda3/lib/python3.12/site-packages (from elasticsearch) (8.17.1)\n",
      "Requirement already satisfied: urllib3<3,>=1.26.2 in /opt/anaconda3/lib/python3.12/site-packages (from elastic-transport<9,>=8.13->elasticsearch) (2.2.3)\n",
      "Requirement already satisfied: certifi in /opt/anaconda3/lib/python3.12/site-packages (from elastic-transport<9,>=8.13->elasticsearch) (2024.12.14)\n",
      "Note: you may need to restart the kernel to use updated packages.\n"
     ]
    }
   ],
   "source": [
    "pip install elasticsearch"
   ]
  },
  {
   "cell_type": "code",
   "execution_count": 885,
   "id": "6e99a220-308c-4c71-9753-bad04d08db40",
   "metadata": {},
   "outputs": [],
   "source": [
    "import requests \n",
    "\n",
    "docs_url = 'https://github.com/DataTalksClub/llm-zoomcamp/blob/main/01-intro/documents.json?raw=1'\n",
    "docs_response = requests.get(docs_url)\n",
    "documents_raw = docs_response.json()\n",
    "\n",
    "documents = []\n",
    "\n",
    "for course in documents_raw:\n",
    "    course_name = course['course']\n",
    "\n",
    "    for doc in course['documents']:\n",
    "        doc['course'] = course_name\n",
    "        documents.append(doc)"
   ]
  },
  {
   "cell_type": "code",
   "execution_count": 889,
   "id": "307c08bb-2098-464c-a0e2-a0cfa3984923",
   "metadata": {},
   "outputs": [],
   "source": [
    "from openai import OpenAI\n",
    "client = OpenAI()"
   ]
  },
  {
   "cell_type": "code",
   "execution_count": 1029,
   "id": "100d15cf-190a-433d-8775-26b55c66a780",
   "metadata": {},
   "outputs": [],
   "source": [
    "from elasticsearch import Elasticsearch\n",
    "es_client = Elasticsearch('http://localhost:9200')"
   ]
  },
  {
   "cell_type": "code",
   "execution_count": 1031,
   "id": "6b8fc9a0-d2c0-45f1-8b97-839e9b764512",
   "metadata": {},
   "outputs": [
    {
     "data": {
      "text/plain": [
       "ObjectApiResponse({'name': '64c3ceb251b3', 'cluster_name': 'docker-cluster', 'cluster_uuid': 'rUhQ_EYDQYyrOqzyZprqaw', 'version': {'number': '8.17.6', 'build_flavor': 'default', 'build_type': 'docker', 'build_hash': 'dbcbbbd0bc4924cfeb28929dc05d82d662c527b7', 'build_date': '2025-04-30T14:07:12.231372970Z', 'build_snapshot': False, 'lucene_version': '9.12.0', 'minimum_wire_compatibility_version': '7.17.0', 'minimum_index_compatibility_version': '7.0.0'}, 'tagline': 'You Know, for Search'})"
      ]
     },
     "execution_count": 1031,
     "metadata": {},
     "output_type": "execute_result"
    }
   ],
   "source": [
    "es_client.info()"
   ]
  },
  {
   "cell_type": "code",
   "execution_count": 1033,
   "id": "5a595f0e-43b9-4789-966c-7512eec63fb0",
   "metadata": {},
   "outputs": [],
   "source": [
    "index_settings = {\n",
    "    \"settings\": {\n",
    "        \"number_of_shards\": 1,\n",
    "        \"number_of_replicas\": 0\n",
    "    },\n",
    "    \"mappings\": {\n",
    "        \"properties\": {\n",
    "            \"text\": {\"type\": \"text\"},\n",
    "            \"question\": {\"type\": \"text\"}\n",
    "        }\n",
    "    }\n",
    "}"
   ]
  },
  {
   "cell_type": "code",
   "execution_count": 1035,
   "id": "6a0c5ba4-2f9c-417b-b75f-13570c4073f7",
   "metadata": {},
   "outputs": [],
   "source": [
    "index_name = \"course-questions\""
   ]
  },
  {
   "cell_type": "code",
   "execution_count": 1038,
   "id": "8af26402-2ce5-4327-8eb9-f66855e501ca",
   "metadata": {
    "scrolled": true
   },
   "outputs": [
    {
     "data": {
      "text/plain": [
       "ObjectApiResponse({'acknowledged': True, 'shards_acknowledged': True, 'index': 'course-questions'})"
      ]
     },
     "execution_count": 1038,
     "metadata": {},
     "output_type": "execute_result"
    }
   ],
   "source": [
    "es_client.indices.create(index=index_name, body=index_settings)"
   ]
  },
  {
   "cell_type": "code",
   "execution_count": 1041,
   "id": "608efd49-d245-4373-8eab-ecfad59ca425",
   "metadata": {},
   "outputs": [],
   "source": [
    "from tqdm.auto import tqdm"
   ]
  },
  {
   "cell_type": "code",
   "execution_count": 1043,
   "id": "e87ce1c1-8978-4676-9156-40b45ad8118a",
   "metadata": {},
   "outputs": [
    {
     "data": {
      "application/vnd.jupyter.widget-view+json": {
       "model_id": "364f9ae09cc1498a924acff9cef914a9",
       "version_major": 2,
       "version_minor": 0
      },
      "text/plain": [
       "  0%|          | 0/948 [00:00<?, ?it/s]"
      ]
     },
     "metadata": {},
     "output_type": "display_data"
    }
   ],
   "source": [
    "# Q2. Indexing the data. Answer: index\n",
    "for doc in tqdm(documents):\n",
    "    es_client.index(index=index_name, document=doc)"
   ]
  },
  {
   "cell_type": "code",
   "execution_count": 1045,
   "id": "e8dee930-a33e-4a8e-b3e2-01c385fa563a",
   "metadata": {},
   "outputs": [],
   "source": [
    "def elastic_search(query):\n",
    "    search_query = {\n",
    "        \"size\": 3,\n",
    "        \"query\": {\n",
    "            \"bool\": {\n",
    "                \"filter\": {\n",
    "                    \"term\": {\n",
    "                        \"course.keyword\": \"machine-learning-zoomcamp\",\n",
    "                    }\n",
    "                },\n",
    "                \"must\": {\n",
    "                    \"multi_match\": {\n",
    "                        \"query\": query,\n",
    "                        \"fields\": [\"question^4\", \"text\"],\n",
    "                        \"type\": \"best_fields\"\n",
    "                    }\n",
    "                }\n",
    "            }\n",
    "        }\n",
    "    }\n",
    "    response = es_client.search(index=index_name, body=search_query)\n",
    "    return response\n",
    "    # result_docs = []\n",
    "\n",
    "    # for hit in response['hits']['hits']:\n",
    "    #     result_docs.append(hit['_source'])\n",
    "    # return [response, result_docs]"
   ]
  },
  {
   "cell_type": "code",
   "execution_count": 1051,
   "id": "e1698441-f014-489c-9afb-eff74c22b78c",
   "metadata": {},
   "outputs": [
    {
     "data": {
      "text/plain": [
       "44.50556"
      ]
     },
     "execution_count": 1051,
     "metadata": {},
     "output_type": "execute_result"
    }
   ],
   "source": [
    "# Q3. Searching. Answer: 44.50\n",
    "query1 = \"How do execute a command on a Kubernetes pod?\"\n",
    "response = elastic_search(query1)\n",
    "response['hits']['hits'][0]['_score']"
   ]
  },
  {
   "cell_type": "code",
   "execution_count": 1059,
   "id": "f406f97b-2596-471a-b970-e0261cb240ff",
   "metadata": {},
   "outputs": [],
   "source": [
    "result_docs = []\n",
    "\n",
    "for hit in response['hits']['hits']:\n",
    "    result_docs.append(hit['_source'])"
   ]
  },
  {
   "cell_type": "code",
   "execution_count": 1061,
   "id": "ebb639f8-6f54-44e7-8b05-86a327b21184",
   "metadata": {},
   "outputs": [
    {
     "data": {
      "text/plain": [
       "'How do I copy files from a different folder into docker container’s working directory?'"
      ]
     },
     "execution_count": 1061,
     "metadata": {},
     "output_type": "execute_result"
    }
   ],
   "source": [
    "# Q4. Filtering. Answer: 'How do I copy files from a different folder into docker container’s working directory?'\n",
    "query = \"How do copy a file to a Docker container?\"\n",
    "result_docs[2]['question']"
   ]
  },
  {
   "cell_type": "code",
   "execution_count": 1063,
   "id": "99ea0149-f13e-443a-8127-add786432d2e",
   "metadata": {},
   "outputs": [],
   "source": [
    "def build_propmt(query, search_results):\n",
    "    prompt_template = \"\"\"\n",
    "You're a course teaching assistant. Answer the QUESTION based on the CONTEXT from the FAQ database.\n",
    "Use only the facts from the CONTEXT when answering the QUESTION.\n",
    "\n",
    "QUESTION: {question}\n",
    "\n",
    "CONTEXT:\n",
    "{context}\n",
    "    \"\"\".strip()\n",
    "    \n",
    "    context = \"\"\n",
    "    \n",
    "    for doc in search_results:\n",
    "        context = context + f\"Q: {doc['question']}\\nA: {doc['text']}\\n\\n\"\n",
    "    \n",
    "    prompt = prompt_template.format(question=query, context=context).strip()\n",
    "    return prompt"
   ]
  },
  {
   "cell_type": "code",
   "execution_count": 1067,
   "id": "e73938c8-4e6c-40db-8425-e51d4b23e67a",
   "metadata": {},
   "outputs": [
    {
     "name": "stdout",
     "output_type": "stream",
     "text": [
      "1446\n"
     ]
    }
   ],
   "source": [
    "# Q5. Building a prompt. Answer: 1446\n",
    "prompt = build_propmt(query, result_docs)\n",
    "print(len(prompt))"
   ]
  },
  {
   "cell_type": "code",
   "execution_count": null,
   "id": "c333fbba-1d86-4686-bb49-e46513461888",
   "metadata": {},
   "outputs": [],
   "source": []
  },
  {
   "cell_type": "code",
   "execution_count": 1069,
   "id": "faed54f1-c09d-4748-9290-2f5c17d3a902",
   "metadata": {},
   "outputs": [
    {
     "name": "stdout",
     "output_type": "stream",
     "text": [
      "Requirement already satisfied: tiktoken in /opt/anaconda3/lib/python3.12/site-packages (0.9.0)\n",
      "Requirement already satisfied: regex>=2022.1.18 in /opt/anaconda3/lib/python3.12/site-packages (from tiktoken) (2024.9.11)\n",
      "Requirement already satisfied: requests>=2.26.0 in /opt/anaconda3/lib/python3.12/site-packages (from tiktoken) (2.32.3)\n",
      "Requirement already satisfied: charset-normalizer<4,>=2 in /opt/anaconda3/lib/python3.12/site-packages (from requests>=2.26.0->tiktoken) (3.3.2)\n",
      "Requirement already satisfied: idna<4,>=2.5 in /opt/anaconda3/lib/python3.12/site-packages (from requests>=2.26.0->tiktoken) (3.7)\n",
      "Requirement already satisfied: urllib3<3,>=1.21.1 in /opt/anaconda3/lib/python3.12/site-packages (from requests>=2.26.0->tiktoken) (2.2.3)\n",
      "Requirement already satisfied: certifi>=2017.4.17 in /opt/anaconda3/lib/python3.12/site-packages (from requests>=2.26.0->tiktoken) (2024.12.14)\n",
      "Note: you may need to restart the kernel to use updated packages.\n"
     ]
    }
   ],
   "source": [
    "pip install tiktoken"
   ]
  },
  {
   "cell_type": "code",
   "execution_count": 1091,
   "id": "4b87d95f-4540-446e-8279-8494be24216e",
   "metadata": {},
   "outputs": [],
   "source": [
    "import tiktoken"
   ]
  },
  {
   "cell_type": "code",
   "execution_count": 1093,
   "id": "a741d96f-05a5-4952-be4c-c7a63abc139d",
   "metadata": {},
   "outputs": [],
   "source": [
    "encoding = tiktoken.encoding_for_model(\"gpt-4o\")"
   ]
  },
  {
   "cell_type": "code",
   "execution_count": 1095,
   "id": "b94b78ec-6159-4b89-97b2-9507abf5432b",
   "metadata": {},
   "outputs": [],
   "source": [
    "token_ids = encoding.encode(prompt)"
   ]
  },
  {
   "cell_type": "code",
   "execution_count": 1097,
   "id": "cdd3445e-8cd2-46cb-a3a6-e997070670c5",
   "metadata": {},
   "outputs": [
    {
     "data": {
      "text/plain": [
       "320"
      ]
     },
     "execution_count": 1097,
     "metadata": {},
     "output_type": "execute_result"
    }
   ],
   "source": [
    "# Q6. Tokens. Answer: 320\n",
    "num_tokens = len(token_ids)\n",
    "num_tokens"
   ]
  },
  {
   "cell_type": "code",
   "execution_count": 1099,
   "id": "10914008-1b7b-4ac2-85c9-ea72e65f65eb",
   "metadata": {},
   "outputs": [],
   "source": [
    "def llm(prompt):\n",
    "    response = client.chat.completions.create(\n",
    "        model='gpt-4o',\n",
    "        messages=[{'role': 'user', 'content': prompt}]\n",
    "    )\n",
    "    return response.choices[0].message.content"
   ]
  },
  {
   "cell_type": "code",
   "execution_count": 1101,
   "id": "c10bb35a-d14f-412d-b9b7-d07dfaaa131a",
   "metadata": {},
   "outputs": [
    {
     "name": "stdout",
     "output_type": "stream",
     "text": [
      "You can copy files from your local machine into a Docker container using the `docker cp` command. The basic syntax is:\n",
      "\n",
      "```\n",
      "docker cp /path/to/local/file_or_directory container_id:/path/in/container\n",
      "```\n",
      "\n",
      "This command allows you to copy a file or directory from your local machine into a running Docker container.\n"
     ]
    }
   ],
   "source": [
    "# Bonus: generating the answer (ungraded)\n",
    "answer = llm(prompt)\n",
    "print(answer)"
   ]
  },
  {
   "cell_type": "code",
   "execution_count": 1109,
   "id": "411d68a0-3453-4b0c-a9f9-d79cbba02990",
   "metadata": {},
   "outputs": [
    {
     "name": "stdout",
     "output_type": "stream",
     "text": [
      "Input = 0.0016, Output = 0.000975, \n",
      "Total = 0.002575\n"
     ]
    }
   ],
   "source": [
    "# Bonus: calculating the costs (ungraded)\n",
    "in_token_price = 0.005 / 1000\n",
    "out_token_price = 0.015 / 1000\n",
    "\n",
    "out_token_ids = encoding.encode(answer)\n",
    "num_out_tokens = len(out_token_ids)\n",
    "\n",
    "total_cost_in = num_tokens * in_token_price\n",
    "total_cost_out = num_out_tokens * out_token_price\n",
    "print(f\"Input = {total_cost_in}, Output = {total_cost_out}, \\nTotal = {total_cost_in + total_cost_out}\")"
   ]
  },
  {
   "cell_type": "code",
   "execution_count": null,
   "id": "c618a251-50d2-4215-b6bb-8a16f3301a42",
   "metadata": {},
   "outputs": [],
   "source": []
  },
  {
   "cell_type": "code",
   "execution_count": null,
   "id": "71b0a38c-d5b5-43a3-80fa-2003a774c9fa",
   "metadata": {},
   "outputs": [],
   "source": []
  }
 ],
 "metadata": {
  "kernelspec": {
   "display_name": "Python [conda env:base] *",
   "language": "python",
   "name": "conda-base-py"
  },
  "language_info": {
   "codemirror_mode": {
    "name": "ipython",
    "version": 3
   },
   "file_extension": ".py",
   "mimetype": "text/x-python",
   "name": "python",
   "nbconvert_exporter": "python",
   "pygments_lexer": "ipython3",
   "version": "3.12.7"
  }
 },
 "nbformat": 4,
 "nbformat_minor": 5
}
