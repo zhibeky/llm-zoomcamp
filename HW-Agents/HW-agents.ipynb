{
 "cells": [
  {
   "cell_type": "code",
   "execution_count": 2,
   "id": "11f046ab-0b1a-474c-af1e-19e46d7df5a8",
   "metadata": {},
   "outputs": [],
   "source": [
    "import random\n",
    "\n",
    "known_weather_data = {\n",
    "    'berlin': 20.0\n",
    "}\n",
    "\n",
    "def get_weather(city: str) -> float:\n",
    "    city = city.strip().lower()\n",
    "\n",
    "    if city in known_weather_data:\n",
    "        return known_weather_data[city]\n",
    "\n",
    "    return round(random.uniform(-5, 35), 1)"
   ]
  },
  {
   "cell_type": "code",
   "execution_count": 4,
   "id": "4e7387f1-5f7f-4ff0-96c6-ba8d844e9ce8",
   "metadata": {},
   "outputs": [
    {
     "data": {
      "text/plain": [
       "True"
      ]
     },
     "execution_count": 4,
     "metadata": {},
     "output_type": "execute_result"
    }
   ],
   "source": [
    "from dotenv import load_dotenv\n",
    "import os\n",
    "load_dotenv()"
   ]
  },
  {
   "cell_type": "markdown",
   "id": "001a9633-76e7-4feb-8bef-b7650681be76",
   "metadata": {},
   "source": [
    "### Q1. Define function description"
   ]
  },
  {
   "cell_type": "code",
   "execution_count": 7,
   "id": "59cc5c31-99ca-4308-b75f-178138cf550e",
   "metadata": {},
   "outputs": [],
   "source": [
    "get_weather_tool = {\n",
    "    \"type\": \"function\",\n",
    "    \"name\": \"get_weather\",\n",
    "    \"description\": \"Get the weather data (temperature in Celsius) for a given city\",\n",
    "    \"parameters\": {\n",
    "        \"type\": \"object\",\n",
    "        \"properties\": {\n",
    "            \"city\": {\n",
    "                \"type\": \"string\",\n",
    "                \"description\": \"The name of the city to get the weather for\"\n",
    "            }\n",
    "        },\n",
    "        \"required\": [\"query\"],\n",
    "        \"additionalProperties\": False\n",
    "    }\n",
    "}"
   ]
  },
  {
   "cell_type": "markdown",
   "id": "d384ca6f-c457-47d9-8a73-6c316286609e",
   "metadata": {},
   "source": [
    "### Test"
   ]
  },
  {
   "cell_type": "code",
   "execution_count": 10,
   "id": "044dec35-0293-4dbd-9f3f-f754c0047fa4",
   "metadata": {},
   "outputs": [
    {
     "name": "stdout",
     "output_type": "stream",
     "text": [
      "--2025-08-29 14:38:56--  https://raw.githubusercontent.com/alexeygrigorev/rag-agents-workshop/refs/heads/main/chat_assistant.py\n",
      "Resolving raw.githubusercontent.com (raw.githubusercontent.com)... 185.199.111.133, 185.199.108.133, 185.199.109.133, ...\n",
      "Connecting to raw.githubusercontent.com (raw.githubusercontent.com)|185.199.111.133|:443... connected.\n",
      "HTTP request sent, awaiting response... 200 OK\n",
      "Length: 3495 (3.4K) [text/plain]\n",
      "Saving to: ‘chat_assistant.py.2’\n",
      "\n",
      "chat_assistant.py.2 100%[===================>]   3.41K  --.-KB/s    in 0s      \n",
      "\n",
      "2025-08-29 14:38:56 (18.2 MB/s) - ‘chat_assistant.py.2’ saved [3495/3495]\n",
      "\n"
     ]
    }
   ],
   "source": [
    "!wget https://raw.githubusercontent.com/alexeygrigorev/rag-agents-workshop/refs/heads/main/chat_assistant.py"
   ]
  },
  {
   "cell_type": "code",
   "execution_count": 12,
   "id": "1722d5dd-c5e5-485d-9705-6890773cd68e",
   "metadata": {
    "scrolled": true
   },
   "outputs": [],
   "source": [
    "from openai import OpenAI\n",
    "client = OpenAI(api_key=os.getenv(\"OPENAI_API_KEY\"))"
   ]
  },
  {
   "cell_type": "code",
   "execution_count": 14,
   "id": "928a19d9-da63-4b38-9afb-32cd75acacb4",
   "metadata": {},
   "outputs": [
    {
     "name": "stdin",
     "output_type": "stream",
     "text": [
      "You: stop\n"
     ]
    },
    {
     "name": "stdout",
     "output_type": "stream",
     "text": [
      "Chat ended.\n"
     ]
    }
   ],
   "source": [
    "from chat_assistant import ChatAssistant, ChatInterface, Tools\n",
    "\n",
    "tools = Tools()\n",
    "tools.add_tool(get_weather, get_weather_tool)\n",
    "\n",
    "assistant = ChatAssistant(\n",
    "    tools=tools,\n",
    "    chat_interface=ChatInterface(),\n",
    "    client=client,\n",
    "    developer_prompt=(\n",
    "        \"You are a helpful assistant. \"\n",
    "        \"If the user asks about weather, call get_weather with a city. \"\n",
    "        \"If they mention a country, default to a well-known city (e.g., Germany -> Berlin).\"\n",
    "    ),\n",
    ")\n",
    "assistant.run()"
   ]
  },
  {
   "cell_type": "markdown",
   "id": "875a2ded-55a1-40f7-9437-1babaac728e7",
   "metadata": {},
   "source": [
    "### Q2. Adding another tool"
   ]
  },
  {
   "cell_type": "code",
   "execution_count": 16,
   "id": "43fa8817-c1ac-4c9b-9a55-5d3aed2dc81b",
   "metadata": {},
   "outputs": [],
   "source": [
    "def set_weather(city: str, temp: float) -> None:\n",
    "    city = city.strip().lower()\n",
    "    known_weather_data[city] = temp\n",
    "    return 'OK'"
   ]
  },
  {
   "cell_type": "code",
   "execution_count": 18,
   "id": "162fd06e-48ef-4576-a7fa-f232b362c8b1",
   "metadata": {},
   "outputs": [],
   "source": [
    "set_weather_tool = {\n",
    "    \"type\": \"function\",\n",
    "    \"name\": \"set_weather\",\n",
    "    \"description\": \"Set the weather data (temperature in Celsius) for a given city\",\n",
    "    \"parameters\": {\n",
    "        \"type\": \"object\",\n",
    "        \"properties\": {\n",
    "            \"city\": {\n",
    "                \"type\": \"string\",\n",
    "                \"description\": \"The name of the city to set the weather for\"\n",
    "            },\n",
    "            \"temp\": {\n",
    "                \"type\": \"number\",\n",
    "                \"description\": \"The temperature that you want to change to\"\n",
    "            }\n",
    "        },\n",
    "        \"required\": [\"city\", \"temp\"],\n",
    "        \"additionalProperties\": False\n",
    "    }\n",
    "}"
   ]
  },
  {
   "cell_type": "markdown",
   "id": "b514ba2c-3086-4954-9870-3af465f221e3",
   "metadata": {},
   "source": [
    "### Test"
   ]
  },
  {
   "cell_type": "code",
   "execution_count": 21,
   "id": "442a8515-5231-45b4-b8de-978d9d90528d",
   "metadata": {},
   "outputs": [
    {
     "name": "stdin",
     "output_type": "stream",
     "text": [
      "You: stop\n"
     ]
    },
    {
     "name": "stdout",
     "output_type": "stream",
     "text": [
      "Chat ended.\n"
     ]
    }
   ],
   "source": [
    "from chat_assistant import ChatAssistant, ChatInterface, Tools\n",
    "\n",
    "tools = Tools()\n",
    "tools.add_tool(set_weather, set_weather_tool)\n",
    "\n",
    "assistant = ChatAssistant(\n",
    "    tools=tools,\n",
    "    chat_interface=ChatInterface(),\n",
    "    client=client,\n",
    "    developer_prompt=(\n",
    "        \"You are a helpful assistant. \"\n",
    "        \"If the user asks to change weather for a given city, call {set_weather} with a given {city} and {temperature}. \"\n",
    "        \"If they mention a country, default to a well-known city (e.g., Germany -> Berlin).\"\n",
    "    ),\n",
    ")\n",
    "assistant.run()"
   ]
  },
  {
   "cell_type": "markdown",
   "id": "1e05653d-caca-472b-a20c-0337b4d283bf",
   "metadata": {},
   "source": [
    "### Q3. Install FastMCP"
   ]
  },
  {
   "cell_type": "code",
   "execution_count": 24,
   "id": "264c3fd0-2f34-4bc4-915a-1fa5681d66d8",
   "metadata": {},
   "outputs": [
    {
     "name": "stdout",
     "output_type": "stream",
     "text": [
      "Requirement already satisfied: fastmcp in /opt/anaconda3/lib/python3.12/site-packages (2.11.3)\n",
      "Requirement already satisfied: authlib>=1.5.2 in /opt/anaconda3/lib/python3.12/site-packages (from fastmcp) (1.6.3)\n",
      "Requirement already satisfied: cyclopts>=3.0.0 in /opt/anaconda3/lib/python3.12/site-packages (from fastmcp) (3.23.0)\n",
      "Requirement already satisfied: exceptiongroup>=1.2.2 in /opt/anaconda3/lib/python3.12/site-packages (from fastmcp) (1.3.0)\n",
      "Requirement already satisfied: httpx>=0.28.1 in /opt/anaconda3/lib/python3.12/site-packages (from fastmcp) (0.28.1)\n",
      "Requirement already satisfied: mcp<2.0.0,>=1.12.4 in /opt/anaconda3/lib/python3.12/site-packages (from fastmcp) (1.13.1)\n",
      "Requirement already satisfied: openapi-core>=0.19.5 in /opt/anaconda3/lib/python3.12/site-packages (from fastmcp) (0.19.5)\n",
      "Requirement already satisfied: openapi-pydantic>=0.5.1 in /opt/anaconda3/lib/python3.12/site-packages (from fastmcp) (0.5.1)\n",
      "Requirement already satisfied: pydantic>=2.11.7 in /opt/anaconda3/lib/python3.12/site-packages (from pydantic[email]>=2.11.7->fastmcp) (2.11.7)\n",
      "Requirement already satisfied: pyperclip>=1.9.0 in /opt/anaconda3/lib/python3.12/site-packages (from fastmcp) (1.9.0)\n",
      "Requirement already satisfied: python-dotenv>=1.1.0 in /opt/anaconda3/lib/python3.12/site-packages (from fastmcp) (1.1.1)\n",
      "Requirement already satisfied: rich>=13.9.4 in /opt/anaconda3/lib/python3.12/site-packages (from fastmcp) (14.1.0)\n",
      "Requirement already satisfied: cryptography in /opt/anaconda3/lib/python3.12/site-packages (from authlib>=1.5.2->fastmcp) (43.0.0)\n",
      "Requirement already satisfied: attrs>=23.1.0 in /opt/anaconda3/lib/python3.12/site-packages (from cyclopts>=3.0.0->fastmcp) (23.1.0)\n",
      "Requirement already satisfied: docstring-parser>=0.15 in /opt/anaconda3/lib/python3.12/site-packages (from cyclopts>=3.0.0->fastmcp) (0.16)\n",
      "Requirement already satisfied: rich-rst<2.0.0,>=1.3.1 in /opt/anaconda3/lib/python3.12/site-packages (from cyclopts>=3.0.0->fastmcp) (1.3.1)\n",
      "Requirement already satisfied: typing-extensions>=4.6.0 in /opt/anaconda3/lib/python3.12/site-packages (from exceptiongroup>=1.2.2->fastmcp) (4.12.2)\n",
      "Requirement already satisfied: anyio in /opt/anaconda3/lib/python3.12/site-packages (from httpx>=0.28.1->fastmcp) (4.9.0)\n",
      "Requirement already satisfied: certifi in /opt/anaconda3/lib/python3.12/site-packages (from httpx>=0.28.1->fastmcp) (2024.12.14)\n",
      "Requirement already satisfied: httpcore==1.* in /opt/anaconda3/lib/python3.12/site-packages (from httpx>=0.28.1->fastmcp) (1.0.2)\n",
      "Requirement already satisfied: idna in /opt/anaconda3/lib/python3.12/site-packages (from httpx>=0.28.1->fastmcp) (3.7)\n",
      "Requirement already satisfied: h11<0.15,>=0.13 in /opt/anaconda3/lib/python3.12/site-packages (from httpcore==1.*->httpx>=0.28.1->fastmcp) (0.14.0)\n",
      "Requirement already satisfied: httpx-sse>=0.4 in /opt/anaconda3/lib/python3.12/site-packages (from mcp<2.0.0,>=1.12.4->fastmcp) (0.4.1)\n",
      "Requirement already satisfied: jsonschema>=4.20.0 in /opt/anaconda3/lib/python3.12/site-packages (from mcp<2.0.0,>=1.12.4->fastmcp) (4.23.0)\n",
      "Requirement already satisfied: pydantic-settings>=2.5.2 in /opt/anaconda3/lib/python3.12/site-packages (from mcp<2.0.0,>=1.12.4->fastmcp) (2.6.1)\n",
      "Requirement already satisfied: python-multipart>=0.0.9 in /opt/anaconda3/lib/python3.12/site-packages (from mcp<2.0.0,>=1.12.4->fastmcp) (0.0.20)\n",
      "Requirement already satisfied: sse-starlette>=1.6.1 in /opt/anaconda3/lib/python3.12/site-packages (from mcp<2.0.0,>=1.12.4->fastmcp) (3.0.2)\n",
      "Requirement already satisfied: starlette>=0.27 in /opt/anaconda3/lib/python3.12/site-packages (from mcp<2.0.0,>=1.12.4->fastmcp) (0.45.3)\n",
      "Requirement already satisfied: uvicorn>=0.31.1 in /opt/anaconda3/lib/python3.12/site-packages (from mcp<2.0.0,>=1.12.4->fastmcp) (0.35.0)\n",
      "Requirement already satisfied: isodate in /opt/anaconda3/lib/python3.12/site-packages (from openapi-core>=0.19.5->fastmcp) (0.7.2)\n",
      "Requirement already satisfied: jsonschema-path<0.4.0,>=0.3.1 in /opt/anaconda3/lib/python3.12/site-packages (from openapi-core>=0.19.5->fastmcp) (0.3.4)\n",
      "Requirement already satisfied: more-itertools in /opt/anaconda3/lib/python3.12/site-packages (from openapi-core>=0.19.5->fastmcp) (10.3.0)\n",
      "Requirement already satisfied: openapi-schema-validator<0.7.0,>=0.6.0 in /opt/anaconda3/lib/python3.12/site-packages (from openapi-core>=0.19.5->fastmcp) (0.6.3)\n",
      "Requirement already satisfied: openapi-spec-validator<0.8.0,>=0.7.1 in /opt/anaconda3/lib/python3.12/site-packages (from openapi-core>=0.19.5->fastmcp) (0.7.2)\n",
      "Requirement already satisfied: parse in /opt/anaconda3/lib/python3.12/site-packages (from openapi-core>=0.19.5->fastmcp) (1.20.2)\n",
      "Requirement already satisfied: werkzeug<3.1.2 in /opt/anaconda3/lib/python3.12/site-packages (from openapi-core>=0.19.5->fastmcp) (3.0.3)\n",
      "Requirement already satisfied: annotated-types>=0.6.0 in /opt/anaconda3/lib/python3.12/site-packages (from pydantic>=2.11.7->pydantic[email]>=2.11.7->fastmcp) (0.6.0)\n",
      "Requirement already satisfied: pydantic-core==2.33.2 in /opt/anaconda3/lib/python3.12/site-packages (from pydantic>=2.11.7->pydantic[email]>=2.11.7->fastmcp) (2.33.2)\n",
      "Requirement already satisfied: typing-inspection>=0.4.0 in /opt/anaconda3/lib/python3.12/site-packages (from pydantic>=2.11.7->pydantic[email]>=2.11.7->fastmcp) (0.4.1)\n",
      "Requirement already satisfied: email-validator>=2.0.0 in /opt/anaconda3/lib/python3.12/site-packages (from pydantic[email]>=2.11.7->fastmcp) (2.2.0)\n",
      "Requirement already satisfied: markdown-it-py>=2.2.0 in /opt/anaconda3/lib/python3.12/site-packages (from rich>=13.9.4->fastmcp) (2.2.0)\n",
      "Requirement already satisfied: pygments<3.0.0,>=2.13.0 in /opt/anaconda3/lib/python3.12/site-packages (from rich>=13.9.4->fastmcp) (2.19.2)\n",
      "Requirement already satisfied: sniffio>=1.1 in /opt/anaconda3/lib/python3.12/site-packages (from anyio->httpx>=0.28.1->fastmcp) (1.3.0)\n",
      "Requirement already satisfied: dnspython>=2.0.0 in /opt/anaconda3/lib/python3.12/site-packages (from email-validator>=2.0.0->pydantic[email]>=2.11.7->fastmcp) (2.7.0)\n",
      "Requirement already satisfied: jsonschema-specifications>=2023.03.6 in /opt/anaconda3/lib/python3.12/site-packages (from jsonschema>=4.20.0->mcp<2.0.0,>=1.12.4->fastmcp) (2023.7.1)\n",
      "Requirement already satisfied: referencing>=0.28.4 in /opt/anaconda3/lib/python3.12/site-packages (from jsonschema>=4.20.0->mcp<2.0.0,>=1.12.4->fastmcp) (0.30.2)\n",
      "Requirement already satisfied: rpds-py>=0.7.1 in /opt/anaconda3/lib/python3.12/site-packages (from jsonschema>=4.20.0->mcp<2.0.0,>=1.12.4->fastmcp) (0.10.6)\n",
      "Requirement already satisfied: PyYAML>=5.1 in /opt/anaconda3/lib/python3.12/site-packages (from jsonschema-path<0.4.0,>=0.3.1->openapi-core>=0.19.5->fastmcp) (6.0.1)\n",
      "Requirement already satisfied: pathable<0.5.0,>=0.4.1 in /opt/anaconda3/lib/python3.12/site-packages (from jsonschema-path<0.4.0,>=0.3.1->openapi-core>=0.19.5->fastmcp) (0.4.4)\n",
      "Requirement already satisfied: requests<3.0.0,>=2.31.0 in /opt/anaconda3/lib/python3.12/site-packages (from jsonschema-path<0.4.0,>=0.3.1->openapi-core>=0.19.5->fastmcp) (2.32.3)\n",
      "Requirement already satisfied: mdurl~=0.1 in /opt/anaconda3/lib/python3.12/site-packages (from markdown-it-py>=2.2.0->rich>=13.9.4->fastmcp) (0.1.0)\n",
      "Requirement already satisfied: rfc3339-validator in /opt/anaconda3/lib/python3.12/site-packages (from openapi-schema-validator<0.7.0,>=0.6.0->openapi-core>=0.19.5->fastmcp) (0.1.4)\n",
      "Requirement already satisfied: lazy-object-proxy<2.0.0,>=1.7.1 in /opt/anaconda3/lib/python3.12/site-packages (from openapi-spec-validator<0.8.0,>=0.7.1->openapi-core>=0.19.5->fastmcp) (1.10.0)\n",
      "Requirement already satisfied: docutils in /opt/anaconda3/lib/python3.12/site-packages (from rich-rst<2.0.0,>=1.3.1->cyclopts>=3.0.0->fastmcp) (0.18.1)\n",
      "Requirement already satisfied: click>=7.0 in /opt/anaconda3/lib/python3.12/site-packages (from uvicorn>=0.31.1->mcp<2.0.0,>=1.12.4->fastmcp) (8.1.7)\n",
      "Requirement already satisfied: MarkupSafe>=2.1.1 in /opt/anaconda3/lib/python3.12/site-packages (from werkzeug<3.1.2->openapi-core>=0.19.5->fastmcp) (2.1.3)\n",
      "Requirement already satisfied: cffi>=1.12 in /opt/anaconda3/lib/python3.12/site-packages (from cryptography->authlib>=1.5.2->fastmcp) (1.17.1)\n",
      "Requirement already satisfied: pycparser in /opt/anaconda3/lib/python3.12/site-packages (from cffi>=1.12->cryptography->authlib>=1.5.2->fastmcp) (2.21)\n",
      "Requirement already satisfied: charset-normalizer<4,>=2 in /opt/anaconda3/lib/python3.12/site-packages (from requests<3.0.0,>=2.31.0->jsonschema-path<0.4.0,>=0.3.1->openapi-core>=0.19.5->fastmcp) (3.3.2)\n",
      "Requirement already satisfied: urllib3<3,>=1.21.1 in /opt/anaconda3/lib/python3.12/site-packages (from requests<3.0.0,>=2.31.0->jsonschema-path<0.4.0,>=0.3.1->openapi-core>=0.19.5->fastmcp) (2.2.3)\n",
      "Requirement already satisfied: six in /opt/anaconda3/lib/python3.12/site-packages (from rfc3339-validator->openapi-schema-validator<0.7.0,>=0.6.0->openapi-core>=0.19.5->fastmcp) (1.16.0)\n"
     ]
    }
   ],
   "source": [
    "!pip install fastmcp"
   ]
  },
  {
   "cell_type": "code",
   "execution_count": 26,
   "id": "8d79ec1e-adeb-4906-96a3-0b987b83ab9d",
   "metadata": {
    "scrolled": true
   },
   "outputs": [],
   "source": [
    "from fastmcp import FastMCP"
   ]
  },
  {
   "cell_type": "code",
   "execution_count": 28,
   "id": "cd8c5a8c-f988-43b7-9b56-a116ec639099",
   "metadata": {},
   "outputs": [
    {
     "name": "stderr",
     "output_type": "stream",
     "text": [
      "/opt/anaconda3/lib/python3.12/pty.py:95: DeprecationWarning: This process (pid=4224) is multi-threaded, use of forkpty() may lead to deadlocks in the child.\n",
      "  pid, fd = os.forkpty()\n"
     ]
    },
    {
     "name": "stdout",
     "output_type": "stream",
     "text": [
      "Name: fastmcp\n",
      "Version: 2.11.3\n",
      "Summary: The fast, Pythonic way to build MCP servers and clients.\n",
      "Home-page: https://gofastmcp.com\n",
      "Author: Jeremiah Lowin\n",
      "Author-email: \n",
      "License: \n",
      "Location: /opt/anaconda3/lib/python3.12/site-packages\n",
      "Requires: authlib, cyclopts, exceptiongroup, httpx, mcp, openapi-core, openapi-pydantic, pydantic, pyperclip, python-dotenv, rich\n",
      "Required-by: \n",
      "Note: you may need to restart the kernel to use updated packages.\n"
     ]
    }
   ],
   "source": [
    "pip show fastmcp"
   ]
  },
  {
   "cell_type": "markdown",
   "id": "9e3e01a2-14be-4b72-968e-a58defca7d4d",
   "metadata": {},
   "source": [
    "### Q4. Simple MCP Server"
   ]
  },
  {
   "cell_type": "markdown",
   "id": "ffffcf5e-2290-45dc-87eb-ca8072c77a3e",
   "metadata": {},
   "source": [
    "The answer from terminal: Starting MCP server 'Weather server' with transport 'stdio'.\n",
    "The screenshot of it is attached on GitHub of the HW-Agents"
   ]
  },
  {
   "cell_type": "markdown",
   "id": "006c32db-34d4-420d-8a66-2f615875964e",
   "metadata": {},
   "source": [
    "### Q5. Protocol"
   ]
  },
  {
   "cell_type": "markdown",
   "id": "f227012f-8ea6-4ba9-bf1d-def18e2731e6",
   "metadata": {},
   "source": [
    "The answer from terminal: \n",
    "\n",
    "{\"jsonrpc\":\"2.0\",\"id\":3,\"result\":{\"content\":[{\"type\":\"text\",\"text\":\"24.9\"}],\"structuredContent\":{\"result\":24.9},\"isError\":false}}\n",
    "\n",
    "The screenshot of it is attached on GitHub of the HW-Agents"
   ]
  },
  {
   "cell_type": "markdown",
   "id": "e6070fe0-3291-4943-8ea7-2a12625e4528",
   "metadata": {},
   "source": [
    "### Q6. Client"
   ]
  },
  {
   "cell_type": "code",
   "execution_count": 60,
   "id": "2850807b-61d8-4b9a-a3a0-6fe93c3e1822",
   "metadata": {},
   "outputs": [
    {
     "name": "stdout",
     "output_type": "stream",
     "text": [
      "[Tool(name='get_weather', title=None, description='Retrieves the temperature for a specified city.\\n\\nParameters:\\n    city (str): The name of the city for which to retrieve weather data.\\n\\nReturns:\\n    float: The temperature associated with the city.', inputSchema={'properties': {'city': {'title': 'City', 'type': 'string'}}, 'required': ['city'], 'type': 'object'}, outputSchema={'properties': {'result': {'title': 'Result', 'type': 'number'}}, 'required': ['result'], 'title': '_WrappedResult', 'type': 'object', 'x-fastmcp-wrap-result': True}, annotations=None, meta={'_fastmcp': {'tags': []}}), Tool(name='set_weather', title=None, description=\"Sets the temperature for a specified city.\\n\\nParameters:\\n    city (str): The name of the city for which to set the weather data.\\n    temp (float): The temperature to associate with the city.\\n\\nReturns:\\n    str: A confirmation string 'OK' indicating successful update.\", inputSchema={'properties': {'city': {'title': 'City', 'type': 'string'}, 'temp': {'title': 'Temp', 'type': 'number'}}, 'required': ['city', 'temp'], 'type': 'object'}, outputSchema=None, annotations=None, meta={'_fastmcp': {'tags': []}})]\n"
     ]
    }
   ],
   "source": [
    "from fastmcp import Client\n",
    "import weather_server\n",
    "\n",
    "async def main():\n",
    "    async with Client(weather_server.mcp) as mcp_client:\n",
    "        tools = await mcp_client.list_tools()\n",
    "        print(tools)\n",
    "        return tools\n",
    "tools = await main()"
   ]
  },
  {
   "cell_type": "code",
   "execution_count": null,
   "id": "fdae2638-3c47-4713-a50e-ca268bdce89c",
   "metadata": {},
   "outputs": [],
   "source": []
  }
 ],
 "metadata": {
  "kernelspec": {
   "display_name": "Python [conda env:base] *",
   "language": "python",
   "name": "conda-base-py"
  },
  "language_info": {
   "codemirror_mode": {
    "name": "ipython",
    "version": 3
   },
   "file_extension": ".py",
   "mimetype": "text/x-python",
   "name": "python",
   "nbconvert_exporter": "python",
   "pygments_lexer": "ipython3",
   "version": "3.12.7"
  }
 },
 "nbformat": 4,
 "nbformat_minor": 5
}
